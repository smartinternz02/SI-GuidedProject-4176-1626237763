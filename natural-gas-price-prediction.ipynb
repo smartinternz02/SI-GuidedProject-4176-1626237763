{
 "cells": [
  {
   "cell_type": "code",
   "execution_count": 3,
   "metadata": {
    "_cell_guid": "b1076dfc-b9ad-4769-8c92-a6c4dae69d19",
    "_uuid": "8f2839f25d086af736a60e9eeb907d3b93b6e0e5",
    "execution": {
     "iopub.execute_input": "2020-09-10T16:43:10.497536Z",
     "iopub.status.busy": "2020-09-10T16:43:10.496808Z",
     "iopub.status.idle": "2020-09-10T16:43:10.503615Z",
     "shell.execute_reply": "2020-09-10T16:43:10.503009Z"
    },
    "papermill": {
     "duration": 0.0234,
     "end_time": "2020-09-10T16:43:10.503728",
     "exception": false,
     "start_time": "2020-09-10T16:43:10.480328",
     "status": "completed"
    },
    "tags": []
   },
   "outputs": [],
   "source": [
    "import numpy as np \n",
    "import pandas as pd \n",
    "import matplotlib.pyplot as plt"
   ]
  },
  {
   "cell_type": "code",
   "execution_count": 4,
   "metadata": {
    "_cell_guid": "79c7e3d0-c299-4dcb-8224-4455121ee9b0",
    "_uuid": "d629ff2d2480ee46fbb7e2d37f6b5fab8052498a",
    "execution": {
     "iopub.execute_input": "2020-09-10T16:43:10.548647Z",
     "iopub.status.busy": "2020-09-10T16:43:10.547880Z",
     "iopub.status.idle": "2020-09-10T16:43:10.566883Z",
     "shell.execute_reply": "2020-09-10T16:43:10.566286Z"
    },
    "papermill": {
     "duration": 0.034691,
     "end_time": "2020-09-10T16:43:10.566980",
     "exception": false,
     "start_time": "2020-09-10T16:43:10.532289",
     "status": "completed"
    },
    "scrolled": false,
    "tags": []
   },
   "outputs": [
    {
     "ename": "FileNotFoundError",
     "evalue": "[Errno 2] No such file or directory: 'C:/Users/DELL/Desktop/NGPP/ANP/daily_csv.csv'",
     "output_type": "error",
     "traceback": [
      "\u001b[1;31m---------------------------------------------------------------------------\u001b[0m",
      "\u001b[1;31mFileNotFoundError\u001b[0m                         Traceback (most recent call last)",
      "\u001b[1;32m<ipython-input-4-0ed6528ab17d>\u001b[0m in \u001b[0;36m<module>\u001b[1;34m\u001b[0m\n\u001b[1;32m----> 1\u001b[1;33m \u001b[0mdataset\u001b[0m \u001b[1;33m=\u001b[0m \u001b[0mpd\u001b[0m\u001b[1;33m.\u001b[0m\u001b[0mread_csv\u001b[0m\u001b[1;33m(\u001b[0m\u001b[1;34m'C:/Users/DELL/Desktop/NGPP/ANP/daily_csv.csv'\u001b[0m\u001b[1;33m)\u001b[0m\u001b[1;33m\u001b[0m\u001b[1;33m\u001b[0m\u001b[0m\n\u001b[0m",
      "\u001b[1;32m~\\anaconda3\\lib\\site-packages\\pandas\\io\\parsers.py\u001b[0m in \u001b[0;36mread_csv\u001b[1;34m(filepath_or_buffer, sep, delimiter, header, names, index_col, usecols, squeeze, prefix, mangle_dupe_cols, dtype, engine, converters, true_values, false_values, skipinitialspace, skiprows, skipfooter, nrows, na_values, keep_default_na, na_filter, verbose, skip_blank_lines, parse_dates, infer_datetime_format, keep_date_col, date_parser, dayfirst, cache_dates, iterator, chunksize, compression, thousands, decimal, lineterminator, quotechar, quoting, doublequote, escapechar, comment, encoding, dialect, error_bad_lines, warn_bad_lines, delim_whitespace, low_memory, memory_map, float_precision, storage_options)\u001b[0m\n\u001b[0;32m    608\u001b[0m     \u001b[0mkwds\u001b[0m\u001b[1;33m.\u001b[0m\u001b[0mupdate\u001b[0m\u001b[1;33m(\u001b[0m\u001b[0mkwds_defaults\u001b[0m\u001b[1;33m)\u001b[0m\u001b[1;33m\u001b[0m\u001b[1;33m\u001b[0m\u001b[0m\n\u001b[0;32m    609\u001b[0m \u001b[1;33m\u001b[0m\u001b[0m\n\u001b[1;32m--> 610\u001b[1;33m     \u001b[1;32mreturn\u001b[0m \u001b[0m_read\u001b[0m\u001b[1;33m(\u001b[0m\u001b[0mfilepath_or_buffer\u001b[0m\u001b[1;33m,\u001b[0m \u001b[0mkwds\u001b[0m\u001b[1;33m)\u001b[0m\u001b[1;33m\u001b[0m\u001b[1;33m\u001b[0m\u001b[0m\n\u001b[0m\u001b[0;32m    611\u001b[0m \u001b[1;33m\u001b[0m\u001b[0m\n\u001b[0;32m    612\u001b[0m \u001b[1;33m\u001b[0m\u001b[0m\n",
      "\u001b[1;32m~\\anaconda3\\lib\\site-packages\\pandas\\io\\parsers.py\u001b[0m in \u001b[0;36m_read\u001b[1;34m(filepath_or_buffer, kwds)\u001b[0m\n\u001b[0;32m    460\u001b[0m \u001b[1;33m\u001b[0m\u001b[0m\n\u001b[0;32m    461\u001b[0m     \u001b[1;31m# Create the parser.\u001b[0m\u001b[1;33m\u001b[0m\u001b[1;33m\u001b[0m\u001b[1;33m\u001b[0m\u001b[0m\n\u001b[1;32m--> 462\u001b[1;33m     \u001b[0mparser\u001b[0m \u001b[1;33m=\u001b[0m \u001b[0mTextFileReader\u001b[0m\u001b[1;33m(\u001b[0m\u001b[0mfilepath_or_buffer\u001b[0m\u001b[1;33m,\u001b[0m \u001b[1;33m**\u001b[0m\u001b[0mkwds\u001b[0m\u001b[1;33m)\u001b[0m\u001b[1;33m\u001b[0m\u001b[1;33m\u001b[0m\u001b[0m\n\u001b[0m\u001b[0;32m    463\u001b[0m \u001b[1;33m\u001b[0m\u001b[0m\n\u001b[0;32m    464\u001b[0m     \u001b[1;32mif\u001b[0m \u001b[0mchunksize\u001b[0m \u001b[1;32mor\u001b[0m \u001b[0miterator\u001b[0m\u001b[1;33m:\u001b[0m\u001b[1;33m\u001b[0m\u001b[1;33m\u001b[0m\u001b[0m\n",
      "\u001b[1;32m~\\anaconda3\\lib\\site-packages\\pandas\\io\\parsers.py\u001b[0m in \u001b[0;36m__init__\u001b[1;34m(self, f, engine, **kwds)\u001b[0m\n\u001b[0;32m    817\u001b[0m             \u001b[0mself\u001b[0m\u001b[1;33m.\u001b[0m\u001b[0moptions\u001b[0m\u001b[1;33m[\u001b[0m\u001b[1;34m\"has_index_names\"\u001b[0m\u001b[1;33m]\u001b[0m \u001b[1;33m=\u001b[0m \u001b[0mkwds\u001b[0m\u001b[1;33m[\u001b[0m\u001b[1;34m\"has_index_names\"\u001b[0m\u001b[1;33m]\u001b[0m\u001b[1;33m\u001b[0m\u001b[1;33m\u001b[0m\u001b[0m\n\u001b[0;32m    818\u001b[0m \u001b[1;33m\u001b[0m\u001b[0m\n\u001b[1;32m--> 819\u001b[1;33m         \u001b[0mself\u001b[0m\u001b[1;33m.\u001b[0m\u001b[0m_engine\u001b[0m \u001b[1;33m=\u001b[0m \u001b[0mself\u001b[0m\u001b[1;33m.\u001b[0m\u001b[0m_make_engine\u001b[0m\u001b[1;33m(\u001b[0m\u001b[0mself\u001b[0m\u001b[1;33m.\u001b[0m\u001b[0mengine\u001b[0m\u001b[1;33m)\u001b[0m\u001b[1;33m\u001b[0m\u001b[1;33m\u001b[0m\u001b[0m\n\u001b[0m\u001b[0;32m    820\u001b[0m \u001b[1;33m\u001b[0m\u001b[0m\n\u001b[0;32m    821\u001b[0m     \u001b[1;32mdef\u001b[0m \u001b[0mclose\u001b[0m\u001b[1;33m(\u001b[0m\u001b[0mself\u001b[0m\u001b[1;33m)\u001b[0m\u001b[1;33m:\u001b[0m\u001b[1;33m\u001b[0m\u001b[1;33m\u001b[0m\u001b[0m\n",
      "\u001b[1;32m~\\anaconda3\\lib\\site-packages\\pandas\\io\\parsers.py\u001b[0m in \u001b[0;36m_make_engine\u001b[1;34m(self, engine)\u001b[0m\n\u001b[0;32m   1048\u001b[0m             )\n\u001b[0;32m   1049\u001b[0m         \u001b[1;31m# error: Too many arguments for \"ParserBase\"\u001b[0m\u001b[1;33m\u001b[0m\u001b[1;33m\u001b[0m\u001b[1;33m\u001b[0m\u001b[0m\n\u001b[1;32m-> 1050\u001b[1;33m         \u001b[1;32mreturn\u001b[0m \u001b[0mmapping\u001b[0m\u001b[1;33m[\u001b[0m\u001b[0mengine\u001b[0m\u001b[1;33m]\u001b[0m\u001b[1;33m(\u001b[0m\u001b[0mself\u001b[0m\u001b[1;33m.\u001b[0m\u001b[0mf\u001b[0m\u001b[1;33m,\u001b[0m \u001b[1;33m**\u001b[0m\u001b[0mself\u001b[0m\u001b[1;33m.\u001b[0m\u001b[0moptions\u001b[0m\u001b[1;33m)\u001b[0m  \u001b[1;31m# type: ignore[call-arg]\u001b[0m\u001b[1;33m\u001b[0m\u001b[1;33m\u001b[0m\u001b[0m\n\u001b[0m\u001b[0;32m   1051\u001b[0m \u001b[1;33m\u001b[0m\u001b[0m\n\u001b[0;32m   1052\u001b[0m     \u001b[1;32mdef\u001b[0m \u001b[0m_failover_to_python\u001b[0m\u001b[1;33m(\u001b[0m\u001b[0mself\u001b[0m\u001b[1;33m)\u001b[0m\u001b[1;33m:\u001b[0m\u001b[1;33m\u001b[0m\u001b[1;33m\u001b[0m\u001b[0m\n",
      "\u001b[1;32m~\\anaconda3\\lib\\site-packages\\pandas\\io\\parsers.py\u001b[0m in \u001b[0;36m__init__\u001b[1;34m(self, src, **kwds)\u001b[0m\n\u001b[0;32m   1865\u001b[0m \u001b[1;33m\u001b[0m\u001b[0m\n\u001b[0;32m   1866\u001b[0m         \u001b[1;31m# open handles\u001b[0m\u001b[1;33m\u001b[0m\u001b[1;33m\u001b[0m\u001b[1;33m\u001b[0m\u001b[0m\n\u001b[1;32m-> 1867\u001b[1;33m         \u001b[0mself\u001b[0m\u001b[1;33m.\u001b[0m\u001b[0m_open_handles\u001b[0m\u001b[1;33m(\u001b[0m\u001b[0msrc\u001b[0m\u001b[1;33m,\u001b[0m \u001b[0mkwds\u001b[0m\u001b[1;33m)\u001b[0m\u001b[1;33m\u001b[0m\u001b[1;33m\u001b[0m\u001b[0m\n\u001b[0m\u001b[0;32m   1868\u001b[0m         \u001b[1;32massert\u001b[0m \u001b[0mself\u001b[0m\u001b[1;33m.\u001b[0m\u001b[0mhandles\u001b[0m \u001b[1;32mis\u001b[0m \u001b[1;32mnot\u001b[0m \u001b[1;32mNone\u001b[0m\u001b[1;33m\u001b[0m\u001b[1;33m\u001b[0m\u001b[0m\n\u001b[0;32m   1869\u001b[0m         \u001b[1;32mfor\u001b[0m \u001b[0mkey\u001b[0m \u001b[1;32min\u001b[0m \u001b[1;33m(\u001b[0m\u001b[1;34m\"storage_options\"\u001b[0m\u001b[1;33m,\u001b[0m \u001b[1;34m\"encoding\"\u001b[0m\u001b[1;33m,\u001b[0m \u001b[1;34m\"memory_map\"\u001b[0m\u001b[1;33m,\u001b[0m \u001b[1;34m\"compression\"\u001b[0m\u001b[1;33m)\u001b[0m\u001b[1;33m:\u001b[0m\u001b[1;33m\u001b[0m\u001b[1;33m\u001b[0m\u001b[0m\n",
      "\u001b[1;32m~\\anaconda3\\lib\\site-packages\\pandas\\io\\parsers.py\u001b[0m in \u001b[0;36m_open_handles\u001b[1;34m(self, src, kwds)\u001b[0m\n\u001b[0;32m   1360\u001b[0m         \u001b[0mLet\u001b[0m \u001b[0mthe\u001b[0m \u001b[0mreaders\u001b[0m \u001b[0mopen\u001b[0m \u001b[0mIOHanldes\u001b[0m \u001b[0mafter\u001b[0m \u001b[0mthey\u001b[0m \u001b[0mare\u001b[0m \u001b[0mdone\u001b[0m \u001b[1;32mwith\u001b[0m \u001b[0mtheir\u001b[0m \u001b[0mpotential\u001b[0m \u001b[0mraises\u001b[0m\u001b[1;33m.\u001b[0m\u001b[1;33m\u001b[0m\u001b[1;33m\u001b[0m\u001b[0m\n\u001b[0;32m   1361\u001b[0m         \"\"\"\n\u001b[1;32m-> 1362\u001b[1;33m         self.handles = get_handle(\n\u001b[0m\u001b[0;32m   1363\u001b[0m             \u001b[0msrc\u001b[0m\u001b[1;33m,\u001b[0m\u001b[1;33m\u001b[0m\u001b[1;33m\u001b[0m\u001b[0m\n\u001b[0;32m   1364\u001b[0m             \u001b[1;34m\"r\"\u001b[0m\u001b[1;33m,\u001b[0m\u001b[1;33m\u001b[0m\u001b[1;33m\u001b[0m\u001b[0m\n",
      "\u001b[1;32m~\\anaconda3\\lib\\site-packages\\pandas\\io\\common.py\u001b[0m in \u001b[0;36mget_handle\u001b[1;34m(path_or_buf, mode, encoding, compression, memory_map, is_text, errors, storage_options)\u001b[0m\n\u001b[0;32m    640\u001b[0m                 \u001b[0merrors\u001b[0m \u001b[1;33m=\u001b[0m \u001b[1;34m\"replace\"\u001b[0m\u001b[1;33m\u001b[0m\u001b[1;33m\u001b[0m\u001b[0m\n\u001b[0;32m    641\u001b[0m             \u001b[1;31m# Encoding\u001b[0m\u001b[1;33m\u001b[0m\u001b[1;33m\u001b[0m\u001b[1;33m\u001b[0m\u001b[0m\n\u001b[1;32m--> 642\u001b[1;33m             handle = open(\n\u001b[0m\u001b[0;32m    643\u001b[0m                 \u001b[0mhandle\u001b[0m\u001b[1;33m,\u001b[0m\u001b[1;33m\u001b[0m\u001b[1;33m\u001b[0m\u001b[0m\n\u001b[0;32m    644\u001b[0m                 \u001b[0mioargs\u001b[0m\u001b[1;33m.\u001b[0m\u001b[0mmode\u001b[0m\u001b[1;33m,\u001b[0m\u001b[1;33m\u001b[0m\u001b[1;33m\u001b[0m\u001b[0m\n",
      "\u001b[1;31mFileNotFoundError\u001b[0m: [Errno 2] No such file or directory: 'C:/Users/DELL/Desktop/NGPP/ANP/daily_csv.csv'"
     ]
    }
   ],
   "source": [
    "dataset = pd.read_csv('C:/Users/DELL/Desktop/NGPP/ANP/daily_csv.csv')"
   ]
  },
  {
   "cell_type": "code",
   "execution_count": 5,
   "metadata": {
    "execution": {
     "iopub.execute_input": "2020-09-10T16:43:10.597065Z",
     "iopub.status.busy": "2020-09-10T16:43:10.596004Z",
     "iopub.status.idle": "2020-09-10T16:43:10.604783Z",
     "shell.execute_reply": "2020-09-10T16:43:10.604163Z"
    },
    "papermill": {
     "duration": 0.029066,
     "end_time": "2020-09-10T16:43:10.604882",
     "exception": false,
     "start_time": "2020-09-10T16:43:10.575816",
     "status": "completed"
    },
    "tags": []
   },
   "outputs": [
    {
     "ename": "NameError",
     "evalue": "name 'dataset' is not defined",
     "output_type": "error",
     "traceback": [
      "\u001b[1;31m---------------------------------------------------------------------------\u001b[0m",
      "\u001b[1;31mNameError\u001b[0m                                 Traceback (most recent call last)",
      "\u001b[1;32m<ipython-input-5-d48d03506017>\u001b[0m in \u001b[0;36m<module>\u001b[1;34m\u001b[0m\n\u001b[1;32m----> 1\u001b[1;33m \u001b[0mdataset\u001b[0m\u001b[1;33m.\u001b[0m\u001b[0mhead\u001b[0m\u001b[1;33m(\u001b[0m\u001b[1;33m)\u001b[0m\u001b[1;33m\u001b[0m\u001b[1;33m\u001b[0m\u001b[0m\n\u001b[0m",
      "\u001b[1;31mNameError\u001b[0m: name 'dataset' is not defined"
     ]
    }
   ],
   "source": [
    "dataset.head()"
   ]
  },
  {
   "cell_type": "code",
   "execution_count": null,
   "metadata": {
    "execution": {
     "iopub.execute_input": "2020-09-10T16:43:10.642231Z",
     "iopub.status.busy": "2020-09-10T16:43:10.641463Z",
     "iopub.status.idle": "2020-09-10T16:43:10.644916Z",
     "shell.execute_reply": "2020-09-10T16:43:10.645613Z"
    },
    "papermill": {
     "duration": 0.030944,
     "end_time": "2020-09-10T16:43:10.645746",
     "exception": false,
     "start_time": "2020-09-10T16:43:10.614802",
     "status": "completed"
    },
    "tags": []
   },
   "outputs": [],
   "source": [
    "dataset.info()"
   ]
  },
  {
   "cell_type": "code",
   "execution_count": null,
   "metadata": {
    "execution": {
     "iopub.execute_input": "2020-09-10T16:43:10.672314Z",
     "iopub.status.busy": "2020-09-10T16:43:10.671550Z",
     "iopub.status.idle": "2020-09-10T16:43:10.683019Z",
     "shell.execute_reply": "2020-09-10T16:43:10.682564Z"
    },
    "papermill": {
     "duration": 0.027473,
     "end_time": "2020-09-10T16:43:10.683145",
     "exception": false,
     "start_time": "2020-09-10T16:43:10.655672",
     "status": "completed"
    },
    "tags": []
   },
   "outputs": [],
   "source": [
    "dataset['year'] = pd.DatetimeIndex(dataset['Date']).year\n",
    "dataset['month'] = pd.DatetimeIndex(dataset['Date']).month\n",
    "dataset['day'] = pd.DatetimeIndex(dataset['Date']).day"
   ]
  },
  {
   "cell_type": "code",
   "execution_count": null,
   "metadata": {
    "execution": {
     "iopub.execute_input": "2020-09-10T16:43:10.717151Z",
     "iopub.status.busy": "2020-09-10T16:43:10.716064Z",
     "iopub.status.idle": "2020-09-10T16:43:10.720567Z",
     "shell.execute_reply": "2020-09-10T16:43:10.720036Z"
    },
    "papermill": {
     "duration": 0.028594,
     "end_time": "2020-09-10T16:43:10.720676",
     "exception": false,
     "start_time": "2020-09-10T16:43:10.692082",
     "status": "completed"
    },
    "tags": []
   },
   "outputs": [],
   "source": [
    "dataset"
   ]
  },
  {
   "cell_type": "markdown",
   "metadata": {
    "papermill": {
     "duration": 0.010328,
     "end_time": "2020-09-10T16:43:10.741616",
     "exception": false,
     "start_time": "2020-09-10T16:43:10.731288",
     "status": "completed"
    },
    "tags": []
   },
   "source": [
    "# Droping Columns"
   ]
  },
  {
   "cell_type": "code",
   "execution_count": null,
   "metadata": {
    "execution": {
     "iopub.execute_input": "2020-09-10T16:43:10.768230Z",
     "iopub.status.busy": "2020-09-10T16:43:10.767498Z",
     "iopub.status.idle": "2020-09-10T16:43:10.774172Z",
     "shell.execute_reply": "2020-09-10T16:43:10.773605Z"
    },
    "papermill": {
     "duration": 0.022142,
     "end_time": "2020-09-10T16:43:10.774298",
     "exception": false,
     "start_time": "2020-09-10T16:43:10.752156",
     "status": "completed"
    },
    "tags": []
   },
   "outputs": [],
   "source": [
    "dataset.drop('Date', axis=1, inplace=True)"
   ]
  },
  {
   "cell_type": "markdown",
   "metadata": {
    "papermill": {
     "duration": 0.010515,
     "end_time": "2020-09-10T16:43:10.795333",
     "exception": false,
     "start_time": "2020-09-10T16:43:10.784818",
     "status": "completed"
    },
    "tags": []
   },
   "source": [
    "# Checking for null values"
   ]
  },
  {
   "cell_type": "code",
   "execution_count": null,
   "metadata": {
    "execution": {
     "iopub.execute_input": "2020-09-10T16:43:10.824781Z",
     "iopub.status.busy": "2020-09-10T16:43:10.823871Z",
     "iopub.status.idle": "2020-09-10T16:43:10.827457Z",
     "shell.execute_reply": "2020-09-10T16:43:10.827962Z"
    },
    "papermill": {
     "duration": 0.022041,
     "end_time": "2020-09-10T16:43:10.828113",
     "exception": false,
     "start_time": "2020-09-10T16:43:10.806072",
     "status": "completed"
    },
    "tags": []
   },
   "outputs": [],
   "source": [
    "dataset.isnull().any()"
   ]
  },
  {
   "cell_type": "raw",
   "metadata": {
    "execution": {
     "iopub.execute_input": "2020-09-10T16:43:10.852728Z",
     "iopub.status.busy": "2020-09-10T16:43:10.851876Z",
     "iopub.status.idle": "2020-09-10T16:43:10.858283Z",
     "shell.execute_reply": "2020-09-10T16:43:10.857664Z"
    },
    "papermill": {
     "duration": 0.019828,
     "end_time": "2020-09-10T16:43:10.858376",
     "exception": false,
     "start_time": "2020-09-10T16:43:10.838548",
     "status": "completed"
    },
    "tags": []
   },
   "source": [
    "dataset.isnull().sum()"
   ]
  },
  {
   "cell_type": "markdown",
   "metadata": {
    "papermill": {
     "duration": 0.009426,
     "end_time": "2020-09-10T16:43:10.877582",
     "exception": false,
     "start_time": "2020-09-10T16:43:10.868156",
     "status": "completed"
    },
    "tags": []
   },
   "source": [
    "# **Handling Missing values**"
   ]
  },
  {
   "cell_type": "code",
   "execution_count": null,
   "metadata": {
    "execution": {
     "iopub.execute_input": "2020-09-10T16:43:10.903953Z",
     "iopub.status.busy": "2020-09-10T16:43:10.903201Z",
     "iopub.status.idle": "2020-09-10T16:43:10.906140Z",
     "shell.execute_reply": "2020-09-10T16:43:10.905652Z"
    },
    "papermill": {
     "duration": 0.018818,
     "end_time": "2020-09-10T16:43:10.906242",
     "exception": false,
     "start_time": "2020-09-10T16:43:10.887424",
     "status": "completed"
    },
    "tags": []
   },
   "outputs": [],
   "source": [
    "dataset['Price'].fillna(dataset['Price'].mean(),inplace=True)"
   ]
  },
  {
   "cell_type": "code",
   "execution_count": null,
   "metadata": {
    "execution": {
     "iopub.execute_input": "2020-09-10T16:43:10.932778Z",
     "iopub.status.busy": "2020-09-10T16:43:10.931943Z",
     "iopub.status.idle": "2020-09-10T16:43:10.935226Z",
     "shell.execute_reply": "2020-09-10T16:43:10.935770Z"
    },
    "papermill": {
     "duration": 0.019735,
     "end_time": "2020-09-10T16:43:10.935880",
     "exception": false,
     "start_time": "2020-09-10T16:43:10.916145",
     "status": "completed"
    },
    "tags": []
   },
   "outputs": [],
   "source": [
    "dataset.isnull().any()"
   ]
  },
  {
   "cell_type": "markdown",
   "metadata": {
    "papermill": {
     "duration": 0.01037,
     "end_time": "2020-09-10T16:43:10.956397",
     "exception": false,
     "start_time": "2020-09-10T16:43:10.946027",
     "status": "completed"
    },
    "tags": []
   },
   "source": [
    "# Data Visualization"
   ]
  },
  {
   "cell_type": "code",
   "execution_count": null,
   "metadata": {
    "execution": {
     "iopub.execute_input": "2020-09-10T16:43:10.982722Z",
     "iopub.status.busy": "2020-09-10T16:43:10.982075Z",
     "iopub.status.idle": "2020-09-10T16:43:11.274198Z",
     "shell.execute_reply": "2020-09-10T16:43:11.274821Z"
    },
    "papermill": {
     "duration": 0.308471,
     "end_time": "2020-09-10T16:43:11.274968",
     "exception": false,
     "start_time": "2020-09-10T16:43:10.966497",
     "status": "completed"
    },
    "tags": []
   },
   "outputs": [],
   "source": [
    "#import the matplotlib library\n",
    "import matplotlib.pyplot as plt\n",
    "#plot size\n",
    "fig=plt.figure(figsize=(5,5))\n",
    "plt.scatter(dataset['day'],dataset['Price'],color='blue')\n",
    "#Set the label for the x-axis.\n",
    "plt.xlabel('Day')\n",
    "#Set the label for the y-axis.\n",
    "plt.ylabel('Price')\n",
    "#Set a title for the axes.\n",
    "plt.title('PRICE OF NATURAL GAS ON THE BASIS OF DAYS OF A MONTH')\n",
    "#Place a legend on the axes.\n",
    "plt.legend()"
   ]
  },
  {
   "cell_type": "code",
   "execution_count": null,
   "metadata": {
    "execution": {
     "iopub.execute_input": "2020-09-10T16:43:11.371330Z",
     "iopub.status.busy": "2020-09-10T16:43:11.370170Z",
     "iopub.status.idle": "2020-09-10T16:43:28.417630Z",
     "shell.execute_reply": "2020-09-10T16:43:28.418866Z"
    },
    "papermill": {
     "duration": 17.132216,
     "end_time": "2020-09-10T16:43:28.419259",
     "exception": false,
     "start_time": "2020-09-10T16:43:11.287043",
     "status": "completed"
    },
    "tags": []
   },
   "outputs": [],
   "source": [
    "import matplotlib.pyplot as plt\n",
    "plt.bar(dataset['month'],dataset['Price'],color='green')\n",
    "plt.xlabel('Month')\n",
    "plt.ylabel('Price')\n",
    "plt.title('PRICE OF NATURAL GAS ON THE BASIS OF MONTHS OF A YEAR')\n",
    "plt.legend()"
   ]
  },
  {
   "cell_type": "code",
   "execution_count": null,
   "metadata": {},
   "outputs": [],
   "source": [
    "import matplotlib.pyplot as plt\n",
    "plt.bar(dataset['year'],dataset['Price'],color='green')\n",
    "plt.xlabel('year')\n",
    "plt.ylabel('Price')\n",
    "plt.title('PRICE OF NATURAL GAS ON THE BASIS OF MONTHS OF A YEAR')\n",
    "plt.legend()"
   ]
  },
  {
   "cell_type": "code",
   "execution_count": null,
   "metadata": {
    "execution": {
     "iopub.execute_input": "2020-09-10T16:43:28.459603Z",
     "iopub.status.busy": "2020-09-10T16:43:28.458687Z",
     "iopub.status.idle": "2020-09-10T16:43:30.264065Z",
     "shell.execute_reply": "2020-09-10T16:43:30.263502Z"
    },
    "papermill": {
     "duration": 1.822848,
     "end_time": "2020-09-10T16:43:30.264197",
     "exception": false,
     "start_time": "2020-09-10T16:43:28.441349",
     "status": "completed"
    },
    "tags": []
   },
   "outputs": [],
   "source": [
    "import seaborn as sns\n",
    "sns.lineplot(x='year',y='Price',data=dataset,color='red')"
   ]
  },
  {
   "cell_type": "code",
   "execution_count": null,
   "metadata": {
    "execution": {
     "iopub.execute_input": "2020-09-10T16:43:30.308685Z",
     "iopub.status.busy": "2020-09-10T16:43:30.303225Z",
     "iopub.status.idle": "2020-09-10T16:43:30.943743Z",
     "shell.execute_reply": "2020-09-10T16:43:30.944342Z"
    },
    "papermill": {
     "duration": 0.665791,
     "end_time": "2020-09-10T16:43:30.944494",
     "exception": false,
     "start_time": "2020-09-10T16:43:30.278703",
     "status": "completed"
    },
    "tags": []
   },
   "outputs": [],
   "source": [
    "import seaborn as sns\n",
    "sns.lineplot(x='month',y='Price',data=dataset,color='red')"
   ]
  },
  {
   "cell_type": "code",
   "execution_count": null,
   "metadata": {
    "execution": {
     "iopub.execute_input": "2020-09-10T16:43:30.988834Z",
     "iopub.status.busy": "2020-09-10T16:43:30.982960Z",
     "iopub.status.idle": "2020-09-10T16:43:32.160698Z",
     "shell.execute_reply": "2020-09-10T16:43:32.161327Z"
    },
    "papermill": {
     "duration": 1.203506,
     "end_time": "2020-09-10T16:43:32.161481",
     "exception": false,
     "start_time": "2020-09-10T16:43:30.957975",
     "status": "completed"
    },
    "tags": []
   },
   "outputs": [],
   "source": [
    "import seaborn as sns\n",
    "sns.lineplot(x='day',y='Price',data=dataset,color='red')"
   ]
  },
  {
   "cell_type": "code",
   "execution_count": null,
   "metadata": {
    "execution": {
     "iopub.execute_input": "2020-09-10T16:43:32.205256Z",
     "iopub.status.busy": "2020-09-10T16:43:32.203961Z",
     "iopub.status.idle": "2020-09-10T16:43:32.439342Z",
     "shell.execute_reply": "2020-09-10T16:43:32.439920Z"
    },
    "papermill": {
     "duration": 0.262854,
     "end_time": "2020-09-10T16:43:32.440078",
     "exception": false,
     "start_time": "2020-09-10T16:43:32.177224",
     "status": "completed"
    },
    "tags": []
   },
   "outputs": [],
   "source": [
    "fig=plt.figure(figsize=(8,4))\n",
    "plt.scatter(dataset['year'],dataset['Price'],color='purple')\n",
    "plt.xlabel('Month')\n",
    "plt.ylabel('Price')\n",
    "plt.title('PRICE OF NATURAL GAS ON THE BASIS OF MONTHS OF A YEAR')\n",
    "plt.legend()"
   ]
  },
  {
   "cell_type": "code",
   "execution_count": null,
   "metadata": {
    "execution": {
     "iopub.execute_input": "2020-09-10T16:43:32.483484Z",
     "iopub.status.busy": "2020-09-10T16:43:32.482214Z",
     "iopub.status.idle": "2020-09-10T16:43:37.433018Z",
     "shell.execute_reply": "2020-09-10T16:43:37.433576Z"
    },
    "papermill": {
     "duration": 4.97841,
     "end_time": "2020-09-10T16:43:37.433740",
     "exception": false,
     "start_time": "2020-09-10T16:43:32.455330",
     "status": "completed"
    },
    "tags": []
   },
   "outputs": [],
   "source": [
    "import seaborn as sns\n",
    "sns.pairplot(dataset)\n",
    "plt.show()"
   ]
  },
  {
   "cell_type": "markdown",
   "metadata": {
    "papermill": {
     "duration": 0.014595,
     "end_time": "2020-09-10T16:43:37.464265",
     "exception": false,
     "start_time": "2020-09-10T16:43:37.449670",
     "status": "completed"
    },
    "tags": []
   },
   "source": [
    "Now, Split the dataset into X(independent variable) and Y(dependent variable)"
   ]
  },
  {
   "cell_type": "code",
   "execution_count": null,
   "metadata": {
    "execution": {
     "iopub.execute_input": "2020-09-10T16:43:37.499071Z",
     "iopub.status.busy": "2020-09-10T16:43:37.498204Z",
     "iopub.status.idle": "2020-09-10T16:43:37.501415Z",
     "shell.execute_reply": "2020-09-10T16:43:37.500903Z"
    },
    "papermill": {
     "duration": 0.023046,
     "end_time": "2020-09-10T16:43:37.501514",
     "exception": false,
     "start_time": "2020-09-10T16:43:37.478468",
     "status": "completed"
    },
    "tags": []
   },
   "outputs": [],
   "source": [
    "x=dataset.iloc[:,1:4].values #inputs\n",
    "y=dataset.iloc[:,0:1].values #output price only"
   ]
  },
  {
   "cell_type": "code",
   "execution_count": null,
   "metadata": {
    "execution": {
     "iopub.execute_input": "2020-09-10T16:43:37.535154Z",
     "iopub.status.busy": "2020-09-10T16:43:37.534279Z",
     "iopub.status.idle": "2020-09-10T16:43:37.538212Z",
     "shell.execute_reply": "2020-09-10T16:43:37.537675Z"
    },
    "papermill": {
     "duration": 0.022496,
     "end_time": "2020-09-10T16:43:37.538320",
     "exception": false,
     "start_time": "2020-09-10T16:43:37.515824",
     "status": "completed"
    },
    "tags": []
   },
   "outputs": [],
   "source": [
    "x"
   ]
  },
  {
   "cell_type": "code",
   "execution_count": null,
   "metadata": {
    "execution": {
     "iopub.execute_input": "2020-09-10T16:43:37.574081Z",
     "iopub.status.busy": "2020-09-10T16:43:37.573237Z",
     "iopub.status.idle": "2020-09-10T16:43:37.577528Z",
     "shell.execute_reply": "2020-09-10T16:43:37.576846Z"
    },
    "papermill": {
     "duration": 0.023891,
     "end_time": "2020-09-10T16:43:37.577639",
     "exception": false,
     "start_time": "2020-09-10T16:43:37.553748",
     "status": "completed"
    },
    "tags": []
   },
   "outputs": [],
   "source": [
    "y"
   ]
  },
  {
   "cell_type": "markdown",
   "metadata": {
    "papermill": {
     "duration": 0.014716,
     "end_time": "2020-09-10T16:43:37.608278",
     "exception": false,
     "start_time": "2020-09-10T16:43:37.593562",
     "status": "completed"
    },
    "tags": []
   },
   "source": [
    "Split data into train and test"
   ]
  },
  {
   "cell_type": "code",
   "execution_count": null,
   "metadata": {
    "execution": {
     "iopub.execute_input": "2020-09-10T16:43:37.644898Z",
     "iopub.status.busy": "2020-09-10T16:43:37.644029Z",
     "iopub.status.idle": "2020-09-10T16:43:37.756416Z",
     "shell.execute_reply": "2020-09-10T16:43:37.755639Z"
    },
    "papermill": {
     "duration": 0.133479,
     "end_time": "2020-09-10T16:43:37.756539",
     "exception": false,
     "start_time": "2020-09-10T16:43:37.623060",
     "status": "completed"
    },
    "tags": []
   },
   "outputs": [],
   "source": [
    "from sklearn.model_selection import train_test_split\n",
    "x_train,x_test,y_train,y_test=train_test_split(x,y,test_size=0.2,random_state=0)"
   ]
  },
  {
   "cell_type": "code",
   "execution_count": null,
   "metadata": {
    "execution": {
     "iopub.execute_input": "2020-09-10T16:43:37.792521Z",
     "iopub.status.busy": "2020-09-10T16:43:37.791511Z",
     "iopub.status.idle": "2020-09-10T16:43:37.795893Z",
     "shell.execute_reply": "2020-09-10T16:43:37.795240Z"
    },
    "papermill": {
     "duration": 0.023559,
     "end_time": "2020-09-10T16:43:37.795999",
     "exception": false,
     "start_time": "2020-09-10T16:43:37.772440",
     "status": "completed"
    },
    "tags": []
   },
   "outputs": [],
   "source": [
    "x_train.shape"
   ]
  },
  {
   "cell_type": "code",
   "execution_count": null,
   "metadata": {
    "execution": {
     "iopub.execute_input": "2020-09-10T16:43:37.831088Z",
     "iopub.status.busy": "2020-09-10T16:43:37.830201Z",
     "iopub.status.idle": "2020-09-10T16:43:37.834213Z",
     "shell.execute_reply": "2020-09-10T16:43:37.833673Z"
    },
    "papermill": {
     "duration": 0.022838,
     "end_time": "2020-09-10T16:43:37.834319",
     "exception": false,
     "start_time": "2020-09-10T16:43:37.811481",
     "status": "completed"
    },
    "tags": []
   },
   "outputs": [],
   "source": [
    "y_train.shape"
   ]
  },
  {
   "cell_type": "code",
   "execution_count": null,
   "metadata": {
    "execution": {
     "iopub.execute_input": "2020-09-10T16:43:37.870408Z",
     "iopub.status.busy": "2020-09-10T16:43:37.869602Z",
     "iopub.status.idle": "2020-09-10T16:43:38.037405Z",
     "shell.execute_reply": "2020-09-10T16:43:38.037950Z"
    },
    "papermill": {
     "duration": 0.187706,
     "end_time": "2020-09-10T16:43:38.038110",
     "exception": false,
     "start_time": "2020-09-10T16:43:37.850404",
     "status": "completed"
    },
    "tags": []
   },
   "outputs": [],
   "source": [
    "#import decision tree regressor\n",
    "from sklearn.tree import DecisionTreeRegressor\n",
    "dtr=DecisionTreeRegressor()\n",
    "#fitting the model or training the model\n",
    "dtr.fit(x_train,y_train)"
   ]
  },
  {
   "cell_type": "code",
   "execution_count": null,
   "metadata": {
    "execution": {
     "iopub.execute_input": "2020-09-10T16:43:38.075803Z",
     "iopub.status.busy": "2020-09-10T16:43:38.074755Z",
     "iopub.status.idle": "2020-09-10T16:43:38.080525Z",
     "shell.execute_reply": "2020-09-10T16:43:38.080001Z"
    },
    "papermill": {
     "duration": 0.02601,
     "end_time": "2020-09-10T16:43:38.080631",
     "exception": false,
     "start_time": "2020-09-10T16:43:38.054621",
     "status": "completed"
    },
    "tags": []
   },
   "outputs": [],
   "source": [
    "y_pred=dtr.predict(x_test)\n",
    "y_pred"
   ]
  },
  {
   "cell_type": "code",
   "execution_count": null,
   "metadata": {
    "execution": {
     "iopub.execute_input": "2020-09-10T16:43:38.116499Z",
     "iopub.status.busy": "2020-09-10T16:43:38.115475Z",
     "iopub.status.idle": "2020-09-10T16:43:38.121869Z",
     "shell.execute_reply": "2020-09-10T16:43:38.121171Z"
    },
    "papermill": {
     "duration": 0.025649,
     "end_time": "2020-09-10T16:43:38.122006",
     "exception": false,
     "start_time": "2020-09-10T16:43:38.096357",
     "status": "completed"
    },
    "tags": []
   },
   "outputs": [],
   "source": [
    "from sklearn.metrics import r2_score\n",
    "accuracy=r2_score(y_test,y_pred)\n",
    "accuracy"
   ]
  },
  {
   "cell_type": "code",
   "execution_count": null,
   "metadata": {
    "execution": {
     "iopub.execute_input": "2020-09-10T16:43:38.193024Z",
     "iopub.status.busy": "2020-09-10T16:43:38.191926Z",
     "iopub.status.idle": "2020-09-10T16:43:38.196131Z",
     "shell.execute_reply": "2020-09-10T16:43:38.195068Z"
    },
    "papermill": {
     "duration": 0.04525,
     "end_time": "2020-09-10T16:43:38.196298",
     "exception": false,
     "start_time": "2020-09-10T16:43:38.151048",
     "status": "completed"
    },
    "tags": []
   },
   "outputs": [],
   "source": [
    "y_p=dtr.predict([[1997,1,7]])\n",
    "y_p"
   ]
  },
  {
   "cell_type": "code",
   "execution_count": null,
   "metadata": {},
   "outputs": [],
   "source": [
    "import pickle\n",
    "with open(\"NGPP.pkl\",\"wb\") as f:\n",
    "    pickle.dump(dtr,f)"
   ]
  },
  {
   "cell_type": "code",
   "execution_count": null,
   "metadata": {},
   "outputs": [],
   "source": [
    "# import pickle\n",
    "# pickle.dump(dtr,open('NGPP.pkl', 'wb'))"
   ]
  },
  {
   "cell_type": "code",
   "execution_count": null,
   "metadata": {},
   "outputs": [],
   "source": [
    "ds_mode = pickle.load(open(\"NGPP.pkl\",\"rb\"))\n",
    "ds_mode.predict([[1997,1,7]])"
   ]
  },
  {
   "cell_type": "code",
   "execution_count": null,
   "metadata": {},
   "outputs": [],
   "source": [
    "dataset.head(1)"
   ]
  },
  {
   "cell_type": "code",
   "execution_count": null,
   "metadata": {},
   "outputs": [],
   "source": []
  }
 ],
 "metadata": {
  "kernelspec": {
   "display_name": "Python 3",
   "language": "python",
   "name": "python3"
  },
  "language_info": {
   "codemirror_mode": {
    "name": "ipython",
    "version": 3
   },
   "file_extension": ".py",
   "mimetype": "text/x-python",
   "name": "python",
   "nbconvert_exporter": "python",
   "pygments_lexer": "ipython3",
   "version": "3.8.8"
  },
  "papermill": {
   "duration": 32.173405,
   "end_time": "2020-09-10T16:43:38.396474",
   "environment_variables": {},
   "exception": null,
   "input_path": "__notebook__.ipynb",
   "output_path": "__notebook__.ipynb",
   "parameters": {},
   "start_time": "2020-09-10T16:43:06.223069",
   "version": "2.1.0"
  }
 },
 "nbformat": 4,
 "nbformat_minor": 4
}
